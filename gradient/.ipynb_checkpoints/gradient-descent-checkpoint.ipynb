{
 "cells": [
  {
   "cell_type": "code",
   "execution_count": 10,
   "metadata": {},
   "outputs": [],
   "source": [
    "from graphviz import Digraph\n",
    "import numpy as np\n",
    "#from micrograd.engine import Value\n",
    "import matplotlib.pyplot as plt\n",
    "import itertools\n"
   ]
  },
  {
   "cell_type": "code",
   "execution_count": 11,
   "metadata": {},
   "outputs": [
    {
     "name": "stdout",
     "output_type": "stream",
     "text": [
      "[[ 5.75581395 -3.72093022]\n",
      " [ 5.75581395 -3.72093022]\n",
      " [ 5.75581395 -3.72093022]\n",
      " [ 5.75581395 -3.72093022]\n",
      " [ 5.75581395 -3.72093022]]\n"
     ]
    },
    {
     "data": {
      "text/plain": [
       "[<matplotlib.lines.Line2D at 0x11aea0450>]"
      ]
     },
     "execution_count": 11,
     "metadata": {},
     "output_type": "execute_result"
    },
    {
     "data": {
      "image/png": "[encoded data removed]",
      "text/plain": [
       "<Figure size 640x480 with 1 Axes>"
      ]
     },
     "metadata": {},
     "output_type": "display_data"
    }
   ],
   "source": [
    "wbs = np.array([[0,0], [0,0], [0,0], [0,0], [0,0]])\n",
    "data = np.array([[1,4], [2,8], [4,16], [5, 21], [6, 36]])\n",
    "# y = w_1x + w_0\n",
    "\n",
    "def predict(weights, input):\n",
    "    return weights[0][0] * input + weights[0][1]\n",
    "\n",
    "\n",
    "def cost(y_hats, ys):\n",
    "    def f(a, b, x):\n",
    "        return a*x + b\n",
    "\n",
    "    return sum([np.power(f(y_hat[0], y_hat[1], y[0]) - y[1], 2) for y_hat, y in zip(y_hats, ys)])\n",
    "\n",
    "def gradient(weights, data=[]):\n",
    "    def f(a, b, x):\n",
    "        return a*x + b\n",
    "\n",
    "    def gradient_w(weights, data):\n",
    "        return 2*np.sum([(f(y_hat[0], y_hat[1], y[0]) - y[1])*y[0] for y_hat, y in zip(weights, data)])\n",
    "\n",
    "    def gradient_b(weights, data):\n",
    "        return 2*np.sum([(f(y_hat[0], y_hat[1], y[0]) - y[1]) for y_hat, y in zip(weights, data)])\n",
    "\n",
    "    dL_dw = gradient_w(weights, data)\n",
    "    dL_db = gradient_b(weights, data)\n",
    "\n",
    "    return dL_dw, dL_db\n",
    "\n",
    "def update_weights(weights, grad, rate=0.01):\n",
    "    return np.array([ [w - rate*grad[0], b - rate*grad[1]] for w, b in weights])\n",
    "\n",
    "\n",
    "cost_collect = []\n",
    "grad_collect = []\n",
    "\n",
    "for n in range(1000):\n",
    "    costs = cost(wbs, data)\n",
    "    grad = gradient(wbs, data)\n",
    "    wbs = update_weights(wbs, grad)\n",
    "    #print(f\"Epoch ({n}):\\n\\tcosts: {costs}\")\n",
    "    #print(f\"\\tgrad: { 0.01 * np.array(grad)}\")\n",
    "    cost_collect.append(costs)\n",
    "    grad_collect.append(grad)\n",
    "\n",
    "#plt.plot(range(len(cost_collect)), cost_collect)\n",
    "print(wbs)\n",
    "\n",
    "predictions = [predict(wbs, x) for x in range(100)]\n",
    "plt.scatter(data[:,0], data[:,1])\n",
    "plt.plot(range(len(predictions))[:10], predictions[:10])"
   ]
  },
  {
   "cell_type": "code",
   "execution_count": 19,
   "metadata": {},
   "outputs": [
    {
     "ename": "ValueError",
     "evalue": "setting an array element with a sequence. The requested array has an inhomogeneous shape after 2 dimensions. The detected shape was (100, 2) + inhomogeneous part.",
     "output_type": "error",
     "traceback": [
      "\u001b[0;31m---------------------------------------------------------------------------\u001b[0m",
      "\u001b[0;31mValueError\u001b[0m                                Traceback (most recent call last)",
      "Cell \u001b[0;32mIn[19], line 2\u001b[0m\n\u001b[1;32m      1\u001b[0m weights \u001b[38;5;241m=\u001b[39m np\u001b[38;5;241m.\u001b[39marray([\u001b[38;5;241m0\u001b[39m,\u001b[38;5;241m0\u001b[39m])\n\u001b[0;32m----> 2\u001b[0m data \u001b[38;5;241m=\u001b[39m \u001b[43mnp\u001b[49m\u001b[38;5;241;43m.\u001b[39;49m\u001b[43marray\u001b[49m\u001b[43m(\u001b[49m\u001b[38;5;28;43mlist\u001b[39;49m\u001b[43m(\u001b[49m\u001b[38;5;28;43mzip\u001b[39;49m\u001b[43m(\u001b[49m\u001b[38;5;28;43mrange\u001b[39;49m\u001b[43m(\u001b[49m\u001b[38;5;241;43m100\u001b[39;49m\u001b[43m)\u001b[49m\u001b[43m,\u001b[49m\u001b[43m \u001b[49m\u001b[43m[\u001b[49m\u001b[43m(\u001b[49m\u001b[43mx\u001b[49m\u001b[38;5;241;43m*\u001b[39;49m\u001b[38;5;241;43m*\u001b[39;49m\u001b[38;5;241;43m2\u001b[39;49m\u001b[43m \u001b[49m\u001b[38;5;241;43m+\u001b[39;49m\u001b[43m \u001b[49m\u001b[43m(\u001b[49m\u001b[43mnp\u001b[49m\u001b[38;5;241;43m.\u001b[39;49m\u001b[43mrandom\u001b[49m\u001b[38;5;241;43m.\u001b[39;49m\u001b[43mrand\u001b[49m\u001b[43m(\u001b[49m\u001b[38;5;241;43m0\u001b[39;49m\u001b[43m,\u001b[49m\u001b[43m \u001b[49m\u001b[38;5;241;43m1\u001b[39;49m\u001b[43m)\u001b[49m\u001b[43m \u001b[49m\u001b[38;5;241;43m-\u001b[39;49m\u001b[43m \u001b[49m\u001b[38;5;241;43m1\u001b[39;49m\u001b[43m)\u001b[49m\u001b[43m)\u001b[49m\u001b[43m \u001b[49m\u001b[38;5;28;43;01mfor\u001b[39;49;00m\u001b[43m \u001b[49m\u001b[43mx\u001b[49m\u001b[43m \u001b[49m\u001b[38;5;129;43;01min\u001b[39;49;00m\u001b[43m \u001b[49m\u001b[38;5;28;43mrange\u001b[39;49m\u001b[43m(\u001b[49m\u001b[38;5;241;43m100\u001b[39;49m\u001b[43m)\u001b[49m\u001b[43m]\u001b[49m\u001b[43m)\u001b[49m\u001b[43m)\u001b[49m\u001b[43m)\u001b[49m\n\u001b[1;32m      4\u001b[0m \u001b[38;5;28mprint\u001b[39m(data)\n",
      "\u001b[0;31mValueError\u001b[0m: setting an array element with a sequence. The requested array has an inhomogeneous shape after 2 dimensions. The detected shape was (100, 2) + inhomogeneous part."
     ]
    }
   ],
   "source": [
    "weights = np.array([0,0])\n",
    "\n",
    "d = [(x**2 + (np.random.rand(0, 1) - 1)) for x in range(100)]\n",
    "print(d)\n",
    "#data = np.array(list(zip(range(100), [(x**2 + (np.random.rand(0, 1) - 1)) for x in range(100)])))\n",
    "\n"
   ]
  }
 ],
 "metadata": {
  "kernelspec": {
   "display_name": "Python 3 (ipykernel)",
   "language": "python",
   "name": "python3"
  },
  "language_info": {
   "codemirror_mode": {
    "name": "ipython",
    "version": 3
   },
   "file_extension": ".py",
   "mimetype": "text/x-python",
   "name": "python",
   "nbconvert_exporter": "python",
   "pygments_lexer": "ipython3",
   "version": "3.11.9"
  }
 },
 "nbformat": 4,
 "nbformat_minor": 4
}
